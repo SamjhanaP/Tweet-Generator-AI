{
 "cells": [
  {
   "cell_type": "markdown",
   "metadata": {},
   "source": [
    "### Tweets Cleaner STEPS\n",
    "\n",
    "1. @mentions\n",
    "2. url links\n",
    "3. hashtag - remove #only but keep text\n",
    "4. punctuation\n",
    "5. stop words\n",
    "6. Replace abbreviations and some spell correction [Cleaning]\n",
    "7. Capitalization or lowercase\n",
    "\n",
    "{tokenization}\n",
    "{Stemming and Lammitization}\n"
   ]
  },
  {
   "cell_type": "code",
   "execution_count": 14,
   "metadata": {},
   "outputs": [
    {
     "name": "stdout",
     "output_type": "stream",
     "text": [
      "Requirement already satisfied: gingerit in c:\\users\\acer\\anaconda3\\envs\\py3.8.5\\lib\\site-packages (0.8.2)\n",
      "Requirement already satisfied: requests<3.0.0,>=2.25.1 in c:\\users\\acer\\anaconda3\\envs\\py3.8.5\\lib\\site-packages (from gingerit) (2.25.1)\n",
      "Requirement already satisfied: urllib3<1.27,>=1.21.1 in c:\\users\\acer\\anaconda3\\envs\\py3.8.5\\lib\\site-packages (from requests<3.0.0,>=2.25.1->gingerit) (1.26.6)\n",
      "Requirement already satisfied: idna<3,>=2.5 in c:\\users\\acer\\anaconda3\\envs\\py3.8.5\\lib\\site-packages (from requests<3.0.0,>=2.25.1->gingerit) (2.10)\n",
      "Requirement already satisfied: chardet<5,>=3.0.2 in c:\\users\\acer\\anaconda3\\envs\\py3.8.5\\lib\\site-packages (from requests<3.0.0,>=2.25.1->gingerit) (4.0.0)\n",
      "Requirement already satisfied: certifi>=2017.4.17 in c:\\users\\acer\\anaconda3\\envs\\py3.8.5\\lib\\site-packages (from requests<3.0.0,>=2.25.1->gingerit) (2021.5.30)\n",
      "Note: you may need to restart the kernel to use updated packages.\n"
     ]
    }
   ],
   "source": [
    "pip install gingerit"
   ]
  },
  {
   "cell_type": "code",
   "execution_count": 15,
   "metadata": {},
   "outputs": [
    {
     "name": "stdout",
     "output_type": "stream",
     "text": [
      "Requirement already satisfied: nltk in c:\\users\\acer\\anaconda3\\envs\\py3.8.5\\lib\\site-packages (3.6.2)\n",
      "Requirement already satisfied: joblib in c:\\users\\acer\\anaconda3\\envs\\py3.8.5\\lib\\site-packages (from nltk) (1.0.1)\n",
      "Requirement already satisfied: regex in c:\\users\\acer\\anaconda3\\envs\\py3.8.5\\lib\\site-packages (from nltk) (2021.7.6)\n",
      "Requirement already satisfied: click in c:\\users\\acer\\anaconda3\\envs\\py3.8.5\\lib\\site-packages (from nltk) (8.0.1)\n",
      "Requirement already satisfied: tqdm in c:\\users\\acer\\anaconda3\\envs\\py3.8.5\\lib\\site-packages (from nltk) (4.61.2)\n",
      "Requirement already satisfied: colorama in c:\\users\\acer\\anaconda3\\envs\\py3.8.5\\lib\\site-packages (from click->nltk) (0.4.4)\n",
      "Note: you may need to restart the kernel to use updated packages.\n"
     ]
    }
   ],
   "source": [
    "pip install nltk"
   ]
  },
  {
   "cell_type": "code",
   "execution_count": 16,
   "metadata": {},
   "outputs": [
    {
     "name": "stderr",
     "output_type": "stream",
     "text": [
      "[nltk_data] Downloading package stopwords to\n",
      "[nltk_data]     C:\\Users\\acer\\AppData\\Roaming\\nltk_data...\n",
      "[nltk_data]   Package stopwords is already up-to-date!\n",
      "[nltk_data] Downloading package punkt to\n",
      "[nltk_data]     C:\\Users\\acer\\AppData\\Roaming\\nltk_data...\n",
      "[nltk_data]   Package punkt is already up-to-date!\n"
     ]
    }
   ],
   "source": [
    "import re, string\n",
    "import nltk\n",
    "nltk.download('stopwords')\n",
    "nltk.download('punkt')\n",
    "from nltk.corpus import stopwords\n",
    "from nltk.tokenize import word_tokenize\n",
    "from gingerit.gingerit import GingerIt"
   ]
  },
  {
   "cell_type": "code",
   "execution_count": 17,
   "metadata": {},
   "outputs": [],
   "source": [
    "def removeMention(text):\n",
    "    return re.sub(r'@[A-Za-z0-9]+','',text)"
   ]
  },
  {
   "cell_type": "code",
   "execution_count": 18,
   "metadata": {},
   "outputs": [],
   "source": [
    "def removeUrl(text):\n",
    "    return re.sub('https?://[A-Za-z0-9./]+','',text)"
   ]
  },
  {
   "cell_type": "code",
   "execution_count": 19,
   "metadata": {},
   "outputs": [],
   "source": [
    "def removeHashtag(text):\n",
    "    return re.sub(r'#', '', text)"
   ]
  },
  {
   "cell_type": "code",
   "execution_count": 20,
   "metadata": {},
   "outputs": [],
   "source": [
    "def removePunctuation(text):\n",
    "    regex = re.compile('[%s]' % re.escape(string.punctuation))\n",
    "    return regex.sub('', text)"
   ]
  },
  {
   "cell_type": "code",
   "execution_count": 21,
   "metadata": {},
   "outputs": [],
   "source": [
    "def removeStopWords(text):\n",
    "    stop_words = set(stopwords.words('english'))\n",
    "    word_tokens = word_tokenize(text)\n",
    "    \n",
    "    filtered_sentence = [w for w in word_tokens if not w.lower() in stop_words]\n",
    "    filtered_sentence = []\n",
    "    for w in word_tokens:\n",
    "        if w not in stop_words:\n",
    "            filtered_sentence.append(w)\n",
    "\n",
    "    return filtered_sentence"
   ]
  },
  {
   "cell_type": "code",
   "execution_count": 22,
   "metadata": {},
   "outputs": [],
   "source": [
    "def fixSlangAndSpelling(text):\n",
    "    parser = GingerIt()\n",
    "    return parser.parse(text)['result']"
   ]
  },
  {
   "cell_type": "code",
   "execution_count": 23,
   "metadata": {},
   "outputs": [],
   "source": [
    "def changeToLower(text):\n",
    "    return text.lower()"
   ]
  },
  {
   "cell_type": "code",
   "execution_count": 24,
   "metadata": {},
   "outputs": [
    {
     "name": "stdout",
     "output_type": "stream",
     "text": [
      " How are you\n",
      " this is a text with link\n",
      "This tweet has tag cool\n",
      "Hello how are you Khana khake jana ha\n",
      "['This', 'sample', 'sentence', ',', 'showing', 'stop', 'words', 'filtration', '.']\n",
      "I'm about to go to school with her carrying flowers\n",
      "i'm abt to go to school wt her carrying flowrs\n"
     ]
    }
   ],
   "source": [
    "print(removeMention(\"@billgates How are you\"))\n",
    "print(removeUrl(\"https://google.com this is a text with link\"))\n",
    "print(removeHashtag(\"This tweet has tag #cool\"))\n",
    "print(removePunctuation(\"Hello! how are you? Khana khake jana ha!!\"))\n",
    "print(removeStopWords(\"This is a sample sentence, showing off the stop words filtration.\"))\n",
    "print(fixSlangAndSpelling(\"I'm abt to go to school wt her carrying flowrs\"))\n",
    "print(changeToLower(\"I'm abt to go to school wt her carrying flowrs\"))"
   ]
  },
  {
   "cell_type": "code",
   "execution_count": null,
   "metadata": {},
   "outputs": [],
   "source": []
  }
 ],
 "metadata": {
  "kernelspec": {
   "display_name": "Python 3",
   "language": "python",
   "name": "python3"
  },
  "language_info": {
   "codemirror_mode": {
    "name": "ipython",
    "version": 3
   },
   "file_extension": ".py",
   "mimetype": "text/x-python",
   "name": "python",
   "nbconvert_exporter": "python",
   "pygments_lexer": "ipython3",
   "version": "3.8.5"
  }
 },
 "nbformat": 4,
 "nbformat_minor": 4
}
