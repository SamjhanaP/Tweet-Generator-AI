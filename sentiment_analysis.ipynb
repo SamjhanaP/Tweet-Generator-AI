{
 "cells": [
  {
   "cell_type": "markdown",
   "metadata": {},
   "source": [
    "### Sentiment Analysis\n",
    "looking positive and negative tweets of each twitter user\n",
    "calculation of sentiment scores is done by using <b></b> library\n"
   ]
  },
  {
   "cell_type": "code",
   "execution_count": 1,
   "metadata": {},
   "outputs": [
    {
     "name": "stdout",
     "output_type": "stream",
     "text": [
      "Requirement already satisfied: vaderSentiment in /Users/apple/opt/anaconda3/lib/python3.8/site-packages (3.3.2)\n",
      "Requirement already satisfied: requests in /Users/apple/opt/anaconda3/lib/python3.8/site-packages (from vaderSentiment) (2.26.0)\n",
      "Requirement already satisfied: certifi>=2017.4.17 in /Users/apple/opt/anaconda3/lib/python3.8/site-packages (from requests->vaderSentiment) (2020.6.20)\n",
      "Requirement already satisfied: idna<4,>=2.5; python_version >= \"3\" in /Users/apple/opt/anaconda3/lib/python3.8/site-packages (from requests->vaderSentiment) (2.10)\n",
      "Requirement already satisfied: urllib3<1.27,>=1.21.1 in /Users/apple/opt/anaconda3/lib/python3.8/site-packages (from requests->vaderSentiment) (1.25.11)\n",
      "Requirement already satisfied: charset-normalizer~=2.0.0; python_version >= \"3\" in /Users/apple/opt/anaconda3/lib/python3.8/site-packages (from requests->vaderSentiment) (2.0.3)\n",
      "Note: you may need to restart the kernel to use updated packages.\n"
     ]
    }
   ],
   "source": [
    "pip install vaderSentiment"
   ]
  },
  {
   "cell_type": "code",
   "execution_count": 2,
   "metadata": {},
   "outputs": [
    {
     "name": "stderr",
     "output_type": "stream",
     "text": [
      "[nltk_data] Downloading package stopwords to /Users/apple/nltk_data...\n",
      "[nltk_data]   Package stopwords is already up-to-date!\n",
      "[nltk_data] Downloading package punkt to /Users/apple/nltk_data...\n",
      "[nltk_data]   Package punkt is already up-to-date!\n"
     ]
    }
   ],
   "source": [
    "from tweet_cleaner import *\n",
    "from get_usernames import get_usernames\n",
    "usernames = get_usernames()"
   ]
  },
  {
   "cell_type": "code",
   "execution_count": 33,
   "metadata": {},
   "outputs": [],
   "source": [
    "from vaderSentiment.vaderSentiment import SentimentIntensityAnalyzer\n",
    "analyzer = SentimentIntensityAnalyzer()\n",
    "\n",
    "def get_sentiment_scores(tweets):\n",
    "\n",
    "    scores = []\n",
    "\n",
    "    for tweet in tweets:\n",
    "        if (tweet is None) or (not isinstance(tweet, str)):\n",
    "            continue\n",
    "        \n",
    "        if len(tweet) > 0:\n",
    "            score = analyzer.polarity_scores(tweet)\n",
    "            scores.append(score)\n",
    "            \n",
    "    return scores"
   ]
  },
  {
   "cell_type": "code",
   "execution_count": 4,
   "metadata": {},
   "outputs": [
    {
     "data": {
      "text/plain": [
       "[{'neg': 0.0, 'neu': 0.222, 'pos': 0.778, 'compound': 0.7906},\n",
       " {'neg': 0.623, 'neu': 0.377, 'pos': 0.0, 'compound': -0.5106},\n",
       " {'neg': 0.0, 'neu': 0.328, 'pos': 0.672, 'compound': 0.6249},\n",
       " {'neg': 0.0, 'neu': 0.508, 'pos': 0.492, 'compound': 0.4404}]"
      ]
     },
     "execution_count": 4,
     "metadata": {},
     "output_type": "execute_result"
    }
   ],
   "source": [
    "get_sentiment_scores([\"Enjoy your lovely time\", \"You are idiot\", \"You are awesome\", \"My day was good\"])"
   ]
  },
  {
   "cell_type": "code",
   "execution_count": 5,
   "metadata": {},
   "outputs": [],
   "source": [
    "from load_data import *"
   ]
  },
  {
   "cell_type": "code",
   "execution_count": 35,
   "metadata": {},
   "outputs": [],
   "source": [
    "scores = {}\n",
    "compound_scores = {}\n",
    "\n",
    "clean_tweets_dict = get_all_clean_tweets_dict()\n",
    "\n",
    "for username,user_tweets in clean_tweets_dict.items():\n",
    "    user_scores = get_sentiment_scores(user_tweets[\"Cleaned\"])\n",
    "    scores[username] = user_scores\n",
    "    compound_scores[username] = list(map(lambda score: score[\"compound\"], user_scores))"
   ]
  },
  {
   "cell_type": "code",
   "execution_count": 36,
   "metadata": {},
   "outputs": [],
   "source": [
    "scores_df = pd.DataFrame.from_dict(scores, orient='index')\n",
    "scores_df = scores_df.T\n",
    "compound_scores_df = pd.DataFrame.from_dict(compound_scores, orient='index')\n",
    "compound_scores_df = compound_scores_df.T"
   ]
  },
  {
   "cell_type": "code",
   "execution_count": 37,
   "metadata": {},
   "outputs": [
    {
     "data": {
      "text/html": [
       "<div>\n",
       "<style scoped>\n",
       "    .dataframe tbody tr th:only-of-type {\n",
       "        vertical-align: middle;\n",
       "    }\n",
       "\n",
       "    .dataframe tbody tr th {\n",
       "        vertical-align: top;\n",
       "    }\n",
       "\n",
       "    .dataframe thead th {\n",
       "        text-align: right;\n",
       "    }\n",
       "</style>\n",
       "<table border=\"1\" class=\"dataframe\">\n",
       "  <thead>\n",
       "    <tr style=\"text-align: right;\">\n",
       "      <th></th>\n",
       "      <th>BarackObama</th>\n",
       "      <th>katyperry</th>\n",
       "      <th>kanyewest</th>\n",
       "      <th>rihanna</th>\n",
       "      <th>arianagrande</th>\n",
       "      <th>jtimberlake</th>\n",
       "      <th>justinbieber</th>\n",
       "      <th>billgates</th>\n",
       "      <th>elonmusk</th>\n",
       "      <th>shakira</th>\n",
       "      <th>brunomars</th>\n",
       "      <th>wizkhalifa</th>\n",
       "      <th>harry_styles</th>\n",
       "      <th>Cristiano</th>\n",
       "      <th>neymarjr</th>\n",
       "    </tr>\n",
       "  </thead>\n",
       "  <tbody>\n",
       "    <tr>\n",
       "      <th>count</th>\n",
       "      <td>998.000000</td>\n",
       "      <td>989.000000</td>\n",
       "      <td>757.000000</td>\n",
       "      <td>969.000000</td>\n",
       "      <td>901.000000</td>\n",
       "      <td>984.000000</td>\n",
       "      <td>908.000000</td>\n",
       "      <td>999.000000</td>\n",
       "      <td>962.000000</td>\n",
       "      <td>898.000000</td>\n",
       "      <td>988.000000</td>\n",
       "      <td>977.000000</td>\n",
       "      <td>975.000000</td>\n",
       "      <td>998.000000</td>\n",
       "      <td>989.000000</td>\n",
       "    </tr>\n",
       "    <tr>\n",
       "      <th>mean</th>\n",
       "      <td>0.454426</td>\n",
       "      <td>0.343191</td>\n",
       "      <td>0.157265</td>\n",
       "      <td>0.217633</td>\n",
       "      <td>0.284866</td>\n",
       "      <td>0.245352</td>\n",
       "      <td>0.259963</td>\n",
       "      <td>0.460007</td>\n",
       "      <td>0.271247</td>\n",
       "      <td>0.236129</td>\n",
       "      <td>0.212639</td>\n",
       "      <td>0.080712</td>\n",
       "      <td>0.336354</td>\n",
       "      <td>0.387505</td>\n",
       "      <td>0.219688</td>\n",
       "    </tr>\n",
       "    <tr>\n",
       "      <th>std</th>\n",
       "      <td>0.452396</td>\n",
       "      <td>0.429983</td>\n",
       "      <td>0.385322</td>\n",
       "      <td>0.396794</td>\n",
       "      <td>0.414755</td>\n",
       "      <td>0.360514</td>\n",
       "      <td>0.321654</td>\n",
       "      <td>0.434127</td>\n",
       "      <td>0.351902</td>\n",
       "      <td>0.370429</td>\n",
       "      <td>0.399569</td>\n",
       "      <td>0.361312</td>\n",
       "      <td>0.416101</td>\n",
       "      <td>0.381765</td>\n",
       "      <td>0.371441</td>\n",
       "    </tr>\n",
       "    <tr>\n",
       "      <th>min</th>\n",
       "      <td>-0.943200</td>\n",
       "      <td>-0.952600</td>\n",
       "      <td>-0.897900</td>\n",
       "      <td>-0.955200</td>\n",
       "      <td>-0.967000</td>\n",
       "      <td>-0.893400</td>\n",
       "      <td>-0.865800</td>\n",
       "      <td>-0.962800</td>\n",
       "      <td>-0.911800</td>\n",
       "      <td>-0.946800</td>\n",
       "      <td>-0.986800</td>\n",
       "      <td>-0.900100</td>\n",
       "      <td>-0.919900</td>\n",
       "      <td>-0.750600</td>\n",
       "      <td>-0.757900</td>\n",
       "    </tr>\n",
       "    <tr>\n",
       "      <th>25%</th>\n",
       "      <td>0.153100</td>\n",
       "      <td>0.000000</td>\n",
       "      <td>0.000000</td>\n",
       "      <td>0.000000</td>\n",
       "      <td>0.000000</td>\n",
       "      <td>0.000000</td>\n",
       "      <td>0.000000</td>\n",
       "      <td>0.226300</td>\n",
       "      <td>0.000000</td>\n",
       "      <td>0.000000</td>\n",
       "      <td>0.000000</td>\n",
       "      <td>0.000000</td>\n",
       "      <td>0.000000</td>\n",
       "      <td>0.000000</td>\n",
       "      <td>0.000000</td>\n",
       "    </tr>\n",
       "    <tr>\n",
       "      <th>50%</th>\n",
       "      <td>0.585900</td>\n",
       "      <td>0.381800</td>\n",
       "      <td>0.000000</td>\n",
       "      <td>0.000000</td>\n",
       "      <td>0.226300</td>\n",
       "      <td>0.000000</td>\n",
       "      <td>0.202300</td>\n",
       "      <td>0.599400</td>\n",
       "      <td>0.296000</td>\n",
       "      <td>0.000000</td>\n",
       "      <td>0.000000</td>\n",
       "      <td>0.000000</td>\n",
       "      <td>0.202300</td>\n",
       "      <td>0.421500</td>\n",
       "      <td>0.000000</td>\n",
       "    </tr>\n",
       "    <tr>\n",
       "      <th>75%</th>\n",
       "      <td>0.827100</td>\n",
       "      <td>0.726900</td>\n",
       "      <td>0.440400</td>\n",
       "      <td>0.557400</td>\n",
       "      <td>0.636900</td>\n",
       "      <td>0.561025</td>\n",
       "      <td>0.526700</td>\n",
       "      <td>0.802000</td>\n",
       "      <td>0.571900</td>\n",
       "      <td>0.571900</td>\n",
       "      <td>0.526700</td>\n",
       "      <td>0.361200</td>\n",
       "      <td>0.765000</td>\n",
       "      <td>0.729700</td>\n",
       "      <td>0.493900</td>\n",
       "    </tr>\n",
       "    <tr>\n",
       "      <th>max</th>\n",
       "      <td>0.976600</td>\n",
       "      <td>0.989900</td>\n",
       "      <td>0.978300</td>\n",
       "      <td>0.993200</td>\n",
       "      <td>0.998900</td>\n",
       "      <td>0.969800</td>\n",
       "      <td>0.962800</td>\n",
       "      <td>0.970200</td>\n",
       "      <td>0.969400</td>\n",
       "      <td>0.992400</td>\n",
       "      <td>0.999700</td>\n",
       "      <td>0.931300</td>\n",
       "      <td>0.978600</td>\n",
       "      <td>0.994000</td>\n",
       "      <td>0.997100</td>\n",
       "    </tr>\n",
       "  </tbody>\n",
       "</table>\n",
       "</div>"
      ],
      "text/plain": [
       "       BarackObama   katyperry   kanyewest     rihanna  arianagrande  \\\n",
       "count   998.000000  989.000000  757.000000  969.000000    901.000000   \n",
       "mean      0.454426    0.343191    0.157265    0.217633      0.284866   \n",
       "std       0.452396    0.429983    0.385322    0.396794      0.414755   \n",
       "min      -0.943200   -0.952600   -0.897900   -0.955200     -0.967000   \n",
       "25%       0.153100    0.000000    0.000000    0.000000      0.000000   \n",
       "50%       0.585900    0.381800    0.000000    0.000000      0.226300   \n",
       "75%       0.827100    0.726900    0.440400    0.557400      0.636900   \n",
       "max       0.976600    0.989900    0.978300    0.993200      0.998900   \n",
       "\n",
       "       jtimberlake  justinbieber   billgates    elonmusk     shakira  \\\n",
       "count   984.000000    908.000000  999.000000  962.000000  898.000000   \n",
       "mean      0.245352      0.259963    0.460007    0.271247    0.236129   \n",
       "std       0.360514      0.321654    0.434127    0.351902    0.370429   \n",
       "min      -0.893400     -0.865800   -0.962800   -0.911800   -0.946800   \n",
       "25%       0.000000      0.000000    0.226300    0.000000    0.000000   \n",
       "50%       0.000000      0.202300    0.599400    0.296000    0.000000   \n",
       "75%       0.561025      0.526700    0.802000    0.571900    0.571900   \n",
       "max       0.969800      0.962800    0.970200    0.969400    0.992400   \n",
       "\n",
       "        brunomars  wizkhalifa  harry_styles   Cristiano    neymarjr  \n",
       "count  988.000000  977.000000    975.000000  998.000000  989.000000  \n",
       "mean     0.212639    0.080712      0.336354    0.387505    0.219688  \n",
       "std      0.399569    0.361312      0.416101    0.381765    0.371441  \n",
       "min     -0.986800   -0.900100     -0.919900   -0.750600   -0.757900  \n",
       "25%      0.000000    0.000000      0.000000    0.000000    0.000000  \n",
       "50%      0.000000    0.000000      0.202300    0.421500    0.000000  \n",
       "75%      0.526700    0.361200      0.765000    0.729700    0.493900  \n",
       "max      0.999700    0.931300      0.978600    0.994000    0.997100  "
      ]
     },
     "execution_count": 37,
     "metadata": {},
     "output_type": "execute_result"
    }
   ],
   "source": [
    "compound_scores_df.describe()"
   ]
  },
  {
   "cell_type": "code",
   "execution_count": 38,
   "metadata": {},
   "outputs": [
    {
     "name": "stdout",
     "output_type": "stream",
     "text": [
      "       BarackObama   katyperry   kanyewest     rihanna  arianagrande  \\\n",
      "count   998.000000  989.000000  757.000000  969.000000    901.000000   \n",
      "mean      0.454426    0.343191    0.157265    0.217633      0.284866   \n",
      "std       0.452396    0.429983    0.385322    0.396794      0.414755   \n",
      "min      -0.943200   -0.952600   -0.897900   -0.955200     -0.967000   \n",
      "25%       0.153100    0.000000    0.000000    0.000000      0.000000   \n",
      "50%       0.585900    0.381800    0.000000    0.000000      0.226300   \n",
      "75%       0.827100    0.726900    0.440400    0.557400      0.636900   \n",
      "max       0.976600    0.989900    0.978300    0.993200      0.998900   \n",
      "\n",
      "       jtimberlake  justinbieber   billgates    elonmusk     shakira  \\\n",
      "count   984.000000    908.000000  999.000000  962.000000  898.000000   \n",
      "mean      0.245352      0.259963    0.460007    0.271247    0.236129   \n",
      "std       0.360514      0.321654    0.434127    0.351902    0.370429   \n",
      "min      -0.893400     -0.865800   -0.962800   -0.911800   -0.946800   \n",
      "25%       0.000000      0.000000    0.226300    0.000000    0.000000   \n",
      "50%       0.000000      0.202300    0.599400    0.296000    0.000000   \n",
      "75%       0.561025      0.526700    0.802000    0.571900    0.571900   \n",
      "max       0.969800      0.962800    0.970200    0.969400    0.992400   \n",
      "\n",
      "        brunomars  wizkhalifa  harry_styles   Cristiano    neymarjr  \n",
      "count  988.000000  977.000000    975.000000  998.000000  989.000000  \n",
      "mean     0.212639    0.080712      0.336354    0.387505    0.219688  \n",
      "std      0.399569    0.361312      0.416101    0.381765    0.371441  \n",
      "min     -0.986800   -0.900100     -0.919900   -0.750600   -0.757900  \n",
      "25%      0.000000    0.000000      0.000000    0.000000    0.000000  \n",
      "50%      0.000000    0.000000      0.202300    0.421500    0.000000  \n",
      "75%      0.526700    0.361200      0.765000    0.729700    0.493900  \n",
      "max      0.999700    0.931300      0.978600    0.994000    0.997100  \n"
     ]
    }
   ],
   "source": [
    "compound_scores_description = compound_scores_df.describe()\n",
    "compound_scores_mean = compound_scores_description.loc[\"mean\"]\n",
    "print(compound_scores_df.describe())"
   ]
  },
  {
   "cell_type": "code",
   "execution_count": 41,
   "metadata": {},
   "outputs": [
    {
     "data": {
      "image/png": "[encoded data removed]",
      "text/plain": [
       "<Figure size 432x288 with 1 Axes>"
      ]
     },
     "metadata": {
      "needs_background": "light"
     },
     "output_type": "display_data"
    }
   ],
   "source": [
    "import matplotlib.pyplot as plt\n",
    "\n",
    "plt.barh(usernames, compound_scores_mean)\n",
    "plt.show()"
   ]
  },
  {
   "cell_type": "code",
   "execution_count": 40,
   "metadata": {},
   "outputs": [],
   "source": [
    "# from collections import Counter\n",
    "# Find top 10 words in a category\n",
    "# def top_10(words):\n",
    "#     t = []\n",
    "#     c = Counter(words).most_common(10)\n",
    "#     for j in range(10):\n",
    "#         t.append(c[j][0])\n",
    "#     return t"
   ]
  },
  {
   "cell_type": "code",
   "execution_count": null,
   "metadata": {},
   "outputs": [],
   "source": []
  }
 ],
 "metadata": {
  "kernelspec": {
   "display_name": "Python 3",
   "language": "python",
   "name": "python3"
  },
  "language_info": {
   "codemirror_mode": {
    "name": "ipython",
    "version": 3
   },
   "file_extension": ".py",
   "mimetype": "text/x-python",
   "name": "python",
   "nbconvert_exporter": "python",
   "pygments_lexer": "ipython3",
   "version": "3.8.5"
  }
 },
 "nbformat": 4,
 "nbformat_minor": 4
}
